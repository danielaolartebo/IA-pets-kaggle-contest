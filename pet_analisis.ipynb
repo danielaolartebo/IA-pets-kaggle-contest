{
  "cells": [
    {
      "cell_type": "markdown",
      "metadata": {},
      "source": [
        "# **Pets Analysis**\n",
        "**Estudiantes: Daniela Olarte, Duvan Cuero y Alexander Sanchez**"
      ]
    },
    {
      "cell_type": "markdown",
      "metadata": {},
      "source": [
        "Millones de animales sufren en la calle o son sacrificados en refugios todos los días en todo el mundo. Si se pueden encontrar hogares para ellos, se pueden salvar muchas vidas preciosas – y se pueden crear más familias felices.\n",
        "Esta competencia busca que se los participantes puedan proponer algoritmos que permitan predecir la capacidad de adopción de las mascotas, ¿con qué rapidez se adopta una mascota?"
      ]
    },
    {
      "cell_type": "code",
      "execution_count": 46,
      "metadata": {
        "id": "_NakYGDmQjso"
      },
      "outputs": [],
      "source": [
        "import pandas as pd                  \n",
        "import matplotlib.pyplot as plt      \n",
        "import seaborn as sns                \n",
        "import numpy as np                   \n",
        "import warnings\n",
        "\n",
        "from sklearn.model_selection import train_test_split \n",
        "from sklearn.preprocessing import MinMaxScaler \n",
        "from sklearn.metrics import classification_report     \n",
        "from sklearn import metrics\n",
        "from sklearn import neighbors  \n",
        "from sklearn import tree\n",
        "\n",
        "from copy import deepcopy                            \n",
        "\n",
        "from numpy.random import default_rng                \n",
        "from pandas.core.common import SettingWithCopyWarning\n",
        "\n",
        "warnings.simplefilter(action=\"ignore\", category=SettingWithCopyWarning)\n",
        "warnings.simplefilter(action=\"ignore\", category=FutureWarning)\n",
        "%matplotlib inline  "
      ]
    },
    {
      "cell_type": "code",
      "execution_count": 7,
      "metadata": {},
      "outputs": [],
      "source": [
        "#files.upload()\n",
        "df = pd.read_csv('train.csv',  na_values='?')"
      ]
    },
    {
      "cell_type": "markdown",
      "metadata": {
        "id": "n6UxaazThS__"
      },
      "source": [
        "# *1. ¿Cuantos registros y variables cuenta el dataset?*\n"
      ]
    },
    {
      "cell_type": "code",
      "execution_count": 3,
      "metadata": {
        "colab": {
          "base_uri": "https://localhost:8080/",
          "height": 164
        },
        "id": "EUGKh0Jge_3J",
        "outputId": "4c9000b7-a411-45d5-e3ad-862486f6ceaa"
      },
      "outputs": [
        {
          "data": {
            "text/html": [
              "<div>\n",
              "<style scoped>\n",
              "    .dataframe tbody tr th:only-of-type {\n",
              "        vertical-align: middle;\n",
              "    }\n",
              "\n",
              "    .dataframe tbody tr th {\n",
              "        vertical-align: top;\n",
              "    }\n",
              "\n",
              "    .dataframe thead th {\n",
              "        text-align: right;\n",
              "    }\n",
              "</style>\n",
              "<table border=\"1\" class=\"dataframe\">\n",
              "  <thead>\n",
              "    <tr style=\"text-align: right;\">\n",
              "      <th></th>\n",
              "      <th>Type</th>\n",
              "      <th>Age</th>\n",
              "      <th>Breed1</th>\n",
              "      <th>Breed2</th>\n",
              "      <th>Gender</th>\n",
              "      <th>Color1</th>\n",
              "      <th>Color2</th>\n",
              "      <th>Color3</th>\n",
              "      <th>MaturitySize</th>\n",
              "      <th>FurLength</th>\n",
              "      <th>Vaccinated</th>\n",
              "      <th>Dewormed</th>\n",
              "      <th>Sterilized</th>\n",
              "      <th>Health</th>\n",
              "      <th>Quantity</th>\n",
              "      <th>Fee</th>\n",
              "      <th>State</th>\n",
              "      <th>VideoAmt</th>\n",
              "      <th>PhotoAmt</th>\n",
              "      <th>AdoptionSpeed</th>\n",
              "    </tr>\n",
              "  </thead>\n",
              "  <tbody>\n",
              "    <tr>\n",
              "      <th>count</th>\n",
              "      <td>14993.000000</td>\n",
              "      <td>14993.000000</td>\n",
              "      <td>14993.000000</td>\n",
              "      <td>14993.000000</td>\n",
              "      <td>14993.000000</td>\n",
              "      <td>14993.000000</td>\n",
              "      <td>14993.000000</td>\n",
              "      <td>14993.000000</td>\n",
              "      <td>14993.000000</td>\n",
              "      <td>14993.000000</td>\n",
              "      <td>14993.000000</td>\n",
              "      <td>14993.000000</td>\n",
              "      <td>14993.000000</td>\n",
              "      <td>14993.000000</td>\n",
              "      <td>14993.000000</td>\n",
              "      <td>14993.000000</td>\n",
              "      <td>14993.000000</td>\n",
              "      <td>14993.000000</td>\n",
              "      <td>14993.000000</td>\n",
              "      <td>14993.000000</td>\n",
              "    </tr>\n",
              "    <tr>\n",
              "      <th>mean</th>\n",
              "      <td>1.457614</td>\n",
              "      <td>10.452078</td>\n",
              "      <td>265.272594</td>\n",
              "      <td>74.009738</td>\n",
              "      <td>1.776162</td>\n",
              "      <td>2.234176</td>\n",
              "      <td>3.222837</td>\n",
              "      <td>1.882012</td>\n",
              "      <td>1.862002</td>\n",
              "      <td>1.467485</td>\n",
              "      <td>1.731208</td>\n",
              "      <td>1.558727</td>\n",
              "      <td>1.914227</td>\n",
              "      <td>1.036617</td>\n",
              "      <td>1.576069</td>\n",
              "      <td>21.259988</td>\n",
              "      <td>41346.028347</td>\n",
              "      <td>0.056760</td>\n",
              "      <td>3.889215</td>\n",
              "      <td>2.516441</td>\n",
              "    </tr>\n",
              "    <tr>\n",
              "      <th>std</th>\n",
              "      <td>0.498217</td>\n",
              "      <td>18.155790</td>\n",
              "      <td>60.056818</td>\n",
              "      <td>123.011575</td>\n",
              "      <td>0.681592</td>\n",
              "      <td>1.745225</td>\n",
              "      <td>2.742562</td>\n",
              "      <td>2.984086</td>\n",
              "      <td>0.547959</td>\n",
              "      <td>0.599070</td>\n",
              "      <td>0.667649</td>\n",
              "      <td>0.695817</td>\n",
              "      <td>0.566172</td>\n",
              "      <td>0.199535</td>\n",
              "      <td>1.472477</td>\n",
              "      <td>78.414548</td>\n",
              "      <td>32.444153</td>\n",
              "      <td>0.346185</td>\n",
              "      <td>3.487810</td>\n",
              "      <td>1.177265</td>\n",
              "    </tr>\n",
              "    <tr>\n",
              "      <th>min</th>\n",
              "      <td>1.000000</td>\n",
              "      <td>0.000000</td>\n",
              "      <td>0.000000</td>\n",
              "      <td>0.000000</td>\n",
              "      <td>1.000000</td>\n",
              "      <td>1.000000</td>\n",
              "      <td>0.000000</td>\n",
              "      <td>0.000000</td>\n",
              "      <td>1.000000</td>\n",
              "      <td>1.000000</td>\n",
              "      <td>1.000000</td>\n",
              "      <td>1.000000</td>\n",
              "      <td>1.000000</td>\n",
              "      <td>1.000000</td>\n",
              "      <td>1.000000</td>\n",
              "      <td>0.000000</td>\n",
              "      <td>41324.000000</td>\n",
              "      <td>0.000000</td>\n",
              "      <td>0.000000</td>\n",
              "      <td>0.000000</td>\n",
              "    </tr>\n",
              "    <tr>\n",
              "      <th>25%</th>\n",
              "      <td>1.000000</td>\n",
              "      <td>2.000000</td>\n",
              "      <td>265.000000</td>\n",
              "      <td>0.000000</td>\n",
              "      <td>1.000000</td>\n",
              "      <td>1.000000</td>\n",
              "      <td>0.000000</td>\n",
              "      <td>0.000000</td>\n",
              "      <td>2.000000</td>\n",
              "      <td>1.000000</td>\n",
              "      <td>1.000000</td>\n",
              "      <td>1.000000</td>\n",
              "      <td>2.000000</td>\n",
              "      <td>1.000000</td>\n",
              "      <td>1.000000</td>\n",
              "      <td>0.000000</td>\n",
              "      <td>41326.000000</td>\n",
              "      <td>0.000000</td>\n",
              "      <td>2.000000</td>\n",
              "      <td>2.000000</td>\n",
              "    </tr>\n",
              "    <tr>\n",
              "      <th>50%</th>\n",
              "      <td>1.000000</td>\n",
              "      <td>3.000000</td>\n",
              "      <td>266.000000</td>\n",
              "      <td>0.000000</td>\n",
              "      <td>2.000000</td>\n",
              "      <td>2.000000</td>\n",
              "      <td>2.000000</td>\n",
              "      <td>0.000000</td>\n",
              "      <td>2.000000</td>\n",
              "      <td>1.000000</td>\n",
              "      <td>2.000000</td>\n",
              "      <td>1.000000</td>\n",
              "      <td>2.000000</td>\n",
              "      <td>1.000000</td>\n",
              "      <td>1.000000</td>\n",
              "      <td>0.000000</td>\n",
              "      <td>41326.000000</td>\n",
              "      <td>0.000000</td>\n",
              "      <td>3.000000</td>\n",
              "      <td>2.000000</td>\n",
              "    </tr>\n",
              "    <tr>\n",
              "      <th>75%</th>\n",
              "      <td>2.000000</td>\n",
              "      <td>12.000000</td>\n",
              "      <td>307.000000</td>\n",
              "      <td>179.000000</td>\n",
              "      <td>2.000000</td>\n",
              "      <td>3.000000</td>\n",
              "      <td>6.000000</td>\n",
              "      <td>5.000000</td>\n",
              "      <td>2.000000</td>\n",
              "      <td>2.000000</td>\n",
              "      <td>2.000000</td>\n",
              "      <td>2.000000</td>\n",
              "      <td>2.000000</td>\n",
              "      <td>1.000000</td>\n",
              "      <td>1.000000</td>\n",
              "      <td>0.000000</td>\n",
              "      <td>41401.000000</td>\n",
              "      <td>0.000000</td>\n",
              "      <td>5.000000</td>\n",
              "      <td>4.000000</td>\n",
              "    </tr>\n",
              "    <tr>\n",
              "      <th>max</th>\n",
              "      <td>2.000000</td>\n",
              "      <td>255.000000</td>\n",
              "      <td>307.000000</td>\n",
              "      <td>307.000000</td>\n",
              "      <td>3.000000</td>\n",
              "      <td>7.000000</td>\n",
              "      <td>7.000000</td>\n",
              "      <td>7.000000</td>\n",
              "      <td>4.000000</td>\n",
              "      <td>3.000000</td>\n",
              "      <td>3.000000</td>\n",
              "      <td>3.000000</td>\n",
              "      <td>3.000000</td>\n",
              "      <td>3.000000</td>\n",
              "      <td>20.000000</td>\n",
              "      <td>3000.000000</td>\n",
              "      <td>41415.000000</td>\n",
              "      <td>8.000000</td>\n",
              "      <td>30.000000</td>\n",
              "      <td>4.000000</td>\n",
              "    </tr>\n",
              "  </tbody>\n",
              "</table>\n",
              "</div>"
            ],
            "text/plain": [
              "               Type           Age        Breed1        Breed2        Gender  \\\n",
              "count  14993.000000  14993.000000  14993.000000  14993.000000  14993.000000   \n",
              "mean       1.457614     10.452078    265.272594     74.009738      1.776162   \n",
              "std        0.498217     18.155790     60.056818    123.011575      0.681592   \n",
              "min        1.000000      0.000000      0.000000      0.000000      1.000000   \n",
              "25%        1.000000      2.000000    265.000000      0.000000      1.000000   \n",
              "50%        1.000000      3.000000    266.000000      0.000000      2.000000   \n",
              "75%        2.000000     12.000000    307.000000    179.000000      2.000000   \n",
              "max        2.000000    255.000000    307.000000    307.000000      3.000000   \n",
              "\n",
              "             Color1        Color2        Color3  MaturitySize     FurLength  \\\n",
              "count  14993.000000  14993.000000  14993.000000  14993.000000  14993.000000   \n",
              "mean       2.234176      3.222837      1.882012      1.862002      1.467485   \n",
              "std        1.745225      2.742562      2.984086      0.547959      0.599070   \n",
              "min        1.000000      0.000000      0.000000      1.000000      1.000000   \n",
              "25%        1.000000      0.000000      0.000000      2.000000      1.000000   \n",
              "50%        2.000000      2.000000      0.000000      2.000000      1.000000   \n",
              "75%        3.000000      6.000000      5.000000      2.000000      2.000000   \n",
              "max        7.000000      7.000000      7.000000      4.000000      3.000000   \n",
              "\n",
              "         Vaccinated      Dewormed    Sterilized        Health      Quantity  \\\n",
              "count  14993.000000  14993.000000  14993.000000  14993.000000  14993.000000   \n",
              "mean       1.731208      1.558727      1.914227      1.036617      1.576069   \n",
              "std        0.667649      0.695817      0.566172      0.199535      1.472477   \n",
              "min        1.000000      1.000000      1.000000      1.000000      1.000000   \n",
              "25%        1.000000      1.000000      2.000000      1.000000      1.000000   \n",
              "50%        2.000000      1.000000      2.000000      1.000000      1.000000   \n",
              "75%        2.000000      2.000000      2.000000      1.000000      1.000000   \n",
              "max        3.000000      3.000000      3.000000      3.000000     20.000000   \n",
              "\n",
              "                Fee         State      VideoAmt      PhotoAmt  AdoptionSpeed  \n",
              "count  14993.000000  14993.000000  14993.000000  14993.000000   14993.000000  \n",
              "mean      21.259988  41346.028347      0.056760      3.889215       2.516441  \n",
              "std       78.414548     32.444153      0.346185      3.487810       1.177265  \n",
              "min        0.000000  41324.000000      0.000000      0.000000       0.000000  \n",
              "25%        0.000000  41326.000000      0.000000      2.000000       2.000000  \n",
              "50%        0.000000  41326.000000      0.000000      3.000000       2.000000  \n",
              "75%        0.000000  41401.000000      0.000000      5.000000       4.000000  \n",
              "max     3000.000000  41415.000000      8.000000     30.000000       4.000000  "
            ]
          },
          "execution_count": 3,
          "metadata": {},
          "output_type": "execute_result"
        }
      ],
      "source": [
        "df.describe()"
      ]
    },
    {
      "cell_type": "code",
      "execution_count": 4,
      "metadata": {
        "colab": {
          "base_uri": "https://localhost:8080/",
          "height": 164
        },
        "id": "yOclZEd9fERA",
        "outputId": "4d4e6a9c-17b4-40e6-f11a-7f448620b654"
      },
      "outputs": [
        {
          "name": "stdout",
          "output_type": "stream",
          "text": [
            "<class 'pandas.core.frame.DataFrame'>\n",
            "RangeIndex: 14993 entries, 0 to 14992\n",
            "Data columns (total 24 columns):\n",
            " #   Column         Non-Null Count  Dtype  \n",
            "---  ------         --------------  -----  \n",
            " 0   Type           14993 non-null  int64  \n",
            " 1   Name           13736 non-null  object \n",
            " 2   Age            14993 non-null  int64  \n",
            " 3   Breed1         14993 non-null  int64  \n",
            " 4   Breed2         14993 non-null  int64  \n",
            " 5   Gender         14993 non-null  int64  \n",
            " 6   Color1         14993 non-null  int64  \n",
            " 7   Color2         14993 non-null  int64  \n",
            " 8   Color3         14993 non-null  int64  \n",
            " 9   MaturitySize   14993 non-null  int64  \n",
            " 10  FurLength      14993 non-null  int64  \n",
            " 11  Vaccinated     14993 non-null  int64  \n",
            " 12  Dewormed       14993 non-null  int64  \n",
            " 13  Sterilized     14993 non-null  int64  \n",
            " 14  Health         14993 non-null  int64  \n",
            " 15  Quantity       14993 non-null  int64  \n",
            " 16  Fee            14993 non-null  int64  \n",
            " 17  State          14993 non-null  int64  \n",
            " 18  RescuerID      14993 non-null  object \n",
            " 19  VideoAmt       14993 non-null  int64  \n",
            " 20  Description    14981 non-null  object \n",
            " 21  PetID          14993 non-null  object \n",
            " 22  PhotoAmt       14993 non-null  float64\n",
            " 23  AdoptionSpeed  14993 non-null  int64  \n",
            "dtypes: float64(1), int64(19), object(4)\n",
            "memory usage: 2.7+ MB\n"
          ]
        }
      ],
      "source": [
        "df.info()"
      ]
    },
    {
      "cell_type": "code",
      "execution_count": 5,
      "metadata": {
        "colab": {
          "base_uri": "https://localhost:8080/"
        },
        "id": "KqLW4zxgg2N4",
        "outputId": "ec434b7b-1aa0-4d9b-dc08-2fbf3c4bdd62"
      },
      "outputs": [
        {
          "data": {
            "text/plain": [
              "Index(['Type', 'Name', 'Age', 'Breed1', 'Breed2', 'Gender', 'Color1', 'Color2',\n",
              "       'Color3', 'MaturitySize', 'FurLength', 'Vaccinated', 'Dewormed',\n",
              "       'Sterilized', 'Health', 'Quantity', 'Fee', 'State', 'RescuerID',\n",
              "       'VideoAmt', 'Description', 'PetID', 'PhotoAmt', 'AdoptionSpeed'],\n",
              "      dtype='object')"
            ]
          },
          "execution_count": 5,
          "metadata": {},
          "output_type": "execute_result"
        }
      ],
      "source": [
        "df.columns"
      ]
    },
    {
      "cell_type": "markdown",
      "metadata": {},
      "source": [
        "El dataset tiene 24 variables y 14993 entradas"
      ]
    },
    {
      "cell_type": "markdown",
      "metadata": {
        "id": "qBHdjZrWhPKr"
      },
      "source": [
        "# *2. ¿Cómo están los valores de la variable Age?*\n",
        "* ¿Cuál es la distribución por tipo de animal\n",
        "* Cuales son los estadísticos descriptivos para esta variable.\n"
      ]
    },
    {
      "cell_type": "code",
      "execution_count": 16,
      "metadata": {
        "colab": {
          "base_uri": "https://localhost:8080/"
        },
        "id": "aucCmdiIhnF7",
        "outputId": "78b453d2-ea91-41cc-968f-2f3d9ae91fac"
      },
      "outputs": [
        {
          "data": {
            "text/plain": [
              "array([[<AxesSubplot:title={'center':'Age'}>]], dtype=object)"
            ]
          },
          "execution_count": 16,
          "metadata": {},
          "output_type": "execute_result"
        },
        {
          "data": {
            "image/png": "[encoded data removed]",
            "text/plain": [
              "<Figure size 360x360 with 1 Axes>"
            ]
          },
          "metadata": {
            "needs_background": "light"
          },
          "output_type": "display_data"
        }
      ],
      "source": [
        "variable = 'Age'\n",
        "gatos = df.loc[df['Type'] == 2] # 2 = Cat\n",
        "num_bins = 150\n",
        "gatos.hist(column=variable, bins=num_bins, figsize=(5,5), range=[0,140])"
      ]
    },
    {
      "cell_type": "markdown",
      "metadata": {},
      "source": [
        "De acuerdo al histograma, la mayor cantidad de gatos tienen entre 0 y 10 meses. "
      ]
    },
    {
      "cell_type": "code",
      "execution_count": 17,
      "metadata": {
        "id": "FUtRAPRAiTN5"
      },
      "outputs": [
        {
          "data": {
            "text/plain": [
              "array([[<AxesSubplot:title={'center':'Age'}>]], dtype=object)"
            ]
          },
          "execution_count": 17,
          "metadata": {},
          "output_type": "execute_result"
        },
        {
          "data": {
            "image/png": "[encoded data removed]",
            "text/plain": [
              "<Figure size 360x360 with 1 Axes>"
            ]
          },
          "metadata": {
            "needs_background": "light"
          },
          "output_type": "display_data"
        }
      ],
      "source": [
        "variable = 'Age'\n",
        "perros = df.loc[df['Type'] == 1] # 1 = Dog\n",
        "num_bins = 150\n",
        "perros.hist(column=variable, bins=num_bins, figsize=(5,5), range=[0,140])"
      ]
    },
    {
      "cell_type": "markdown",
      "metadata": {},
      "source": [
        "De acuerdo al histograma, la mayor cantidad de perros tienen entre 0 y 10 meses. "
      ]
    },
    {
      "cell_type": "markdown",
      "metadata": {
        "id": "-K0xK1KjiYsH"
      },
      "source": [
        "# *3. ¿Hay más datos de perros o de gatos?*\n"
      ]
    },
    {
      "cell_type": "code",
      "execution_count": 13,
      "metadata": {
        "id": "3DeRtlLkSCPP"
      },
      "outputs": [
        {
          "data": {
            "text/plain": [
              "count    14993.000000\n",
              "mean        10.452078\n",
              "std         18.155790\n",
              "min          0.000000\n",
              "25%          2.000000\n",
              "50%          3.000000\n",
              "75%         12.000000\n",
              "max        255.000000\n",
              "Name: Age, dtype: float64"
            ]
          },
          "execution_count": 13,
          "metadata": {},
          "output_type": "execute_result"
        }
      ],
      "source": [
        "df['Age'].describe()"
      ]
    },
    {
      "cell_type": "code",
      "execution_count": 20,
      "metadata": {},
      "outputs": [
        {
          "name": "stdout",
          "output_type": "stream",
          "text": [
            "Perros:  8132 Gatos:  6861\n"
          ]
        }
      ],
      "source": [
        "print(\"Perros: \",len(perros), \"Gatos: \",len(gatos))"
      ]
    },
    {
      "cell_type": "markdown",
      "metadata": {},
      "source": [
        "Hay una mayor cantidad de perros que de gatos"
      ]
    },
    {
      "cell_type": "markdown",
      "metadata": {
        "id": "8gqquXTVihcc"
      },
      "source": [
        "# *4. ¿Cómo es la velocidad de adopción para perros y gatos?*"
      ]
    },
    {
      "cell_type": "code",
      "execution_count": 21,
      "metadata": {},
      "outputs": [
        {
          "data": {
            "text/html": [
              "<div>\n",
              "<style scoped>\n",
              "    .dataframe tbody tr th:only-of-type {\n",
              "        vertical-align: middle;\n",
              "    }\n",
              "\n",
              "    .dataframe tbody tr th {\n",
              "        vertical-align: top;\n",
              "    }\n",
              "\n",
              "    .dataframe thead th {\n",
              "        text-align: right;\n",
              "    }\n",
              "</style>\n",
              "<table border=\"1\" class=\"dataframe\">\n",
              "  <thead>\n",
              "    <tr style=\"text-align: right;\">\n",
              "      <th>AdoptionSpeed</th>\n",
              "      <th>0</th>\n",
              "      <th>1</th>\n",
              "      <th>2</th>\n",
              "      <th>3</th>\n",
              "      <th>4</th>\n",
              "    </tr>\n",
              "    <tr>\n",
              "      <th>Type</th>\n",
              "      <th></th>\n",
              "      <th></th>\n",
              "      <th></th>\n",
              "      <th></th>\n",
              "      <th></th>\n",
              "    </tr>\n",
              "  </thead>\n",
              "  <tbody>\n",
              "    <tr>\n",
              "      <th>1</th>\n",
              "      <td>0.020905</td>\n",
              "      <td>0.176463</td>\n",
              "      <td>0.266109</td>\n",
              "      <td>0.239670</td>\n",
              "      <td>0.296852</td>\n",
              "    </tr>\n",
              "    <tr>\n",
              "      <th>2</th>\n",
              "      <td>0.034980</td>\n",
              "      <td>0.241218</td>\n",
              "      <td>0.272992</td>\n",
              "      <td>0.190934</td>\n",
              "      <td>0.259875</td>\n",
              "    </tr>\n",
              "    <tr>\n",
              "      <th>All</th>\n",
              "      <td>0.027346</td>\n",
              "      <td>0.206096</td>\n",
              "      <td>0.269259</td>\n",
              "      <td>0.217368</td>\n",
              "      <td>0.279931</td>\n",
              "    </tr>\n",
              "  </tbody>\n",
              "</table>\n",
              "</div>"
            ],
            "text/plain": [
              "AdoptionSpeed         0         1         2         3         4\n",
              "Type                                                           \n",
              "1              0.020905  0.176463  0.266109  0.239670  0.296852\n",
              "2              0.034980  0.241218  0.272992  0.190934  0.259875\n",
              "All            0.027346  0.206096  0.269259  0.217368  0.279931"
            ]
          },
          "execution_count": 21,
          "metadata": {},
          "output_type": "execute_result"
        }
      ],
      "source": [
        "pd.crosstab(df['Type'], df['AdoptionSpeed'], margins = True, normalize=\"index\")"
      ]
    },
    {
      "cell_type": "markdown",
      "metadata": {},
      "source": [
        "Se puede evidenciar que la adopción para ambos, tanto perros como gatos, tiende a ser lenta. El dato más relevante está en el mes 1 donde fue cuando más hubo adopciones. "
      ]
    },
    {
      "cell_type": "markdown",
      "metadata": {
        "id": "5RV8y49WijFy"
      },
      "source": [
        "# *5. Encuentre los nombres sin valores*\n",
        "* ¿Cuántos para gatos y perros?\n",
        "* ¿Eliminar o reemplazar los registros?, justifique\n"
      ]
    },
    {
      "cell_type": "code",
      "execution_count": 22,
      "metadata": {},
      "outputs": [
        {
          "data": {
            "text/plain": [
              "Type               0\n",
              "Name             608\n",
              "Age                0\n",
              "Breed1             0\n",
              "Breed2             0\n",
              "Gender             0\n",
              "Color1             0\n",
              "Color2             0\n",
              "Color3             0\n",
              "MaturitySize       0\n",
              "FurLength          0\n",
              "Vaccinated         0\n",
              "Dewormed           0\n",
              "Sterilized         0\n",
              "Health             0\n",
              "Quantity           0\n",
              "Fee                0\n",
              "State              0\n",
              "RescuerID          0\n",
              "VideoAmt           0\n",
              "Description        9\n",
              "PetID              0\n",
              "PhotoAmt           0\n",
              "AdoptionSpeed      0\n",
              "dtype: int64"
            ]
          },
          "execution_count": 22,
          "metadata": {},
          "output_type": "execute_result"
        }
      ],
      "source": [
        "gatos.isna().sum()"
      ]
    },
    {
      "cell_type": "code",
      "execution_count": 23,
      "metadata": {},
      "outputs": [
        {
          "data": {
            "text/plain": [
              "Type               0\n",
              "Name             649\n",
              "Age                0\n",
              "Breed1             0\n",
              "Breed2             0\n",
              "Gender             0\n",
              "Color1             0\n",
              "Color2             0\n",
              "Color3             0\n",
              "MaturitySize       0\n",
              "FurLength          0\n",
              "Vaccinated         0\n",
              "Dewormed           0\n",
              "Sterilized         0\n",
              "Health             0\n",
              "Quantity           0\n",
              "Fee                0\n",
              "State              0\n",
              "RescuerID          0\n",
              "VideoAmt           0\n",
              "Description        3\n",
              "PetID              0\n",
              "PhotoAmt           0\n",
              "AdoptionSpeed      0\n",
              "dtype: int64"
            ]
          },
          "execution_count": 23,
          "metadata": {},
          "output_type": "execute_result"
        }
      ],
      "source": [
        "perros.isna().sum()"
      ]
    },
    {
      "cell_type": "markdown",
      "metadata": {},
      "source": [
        "Los datos nulos se encuentran en el nombre y la description en ambos casos: gatos y perros"
      ]
    },
    {
      "cell_type": "code",
      "execution_count": 26,
      "metadata": {},
      "outputs": [
        {
          "name": "stderr",
          "output_type": "stream",
          "text": [
            "/var/folders/m1/y83lzzrj3g9cwk3vm5gds84r0000gn/T/ipykernel_48569/460137918.py:2: SettingWithCopyWarning: \n",
            "A value is trying to be set on a copy of a slice from a DataFrame\n",
            "\n",
            "See the caveats in the documentation: https://pandas.pydata.org/pandas-docs/stable/user_guide/indexing.html#returning-a-view-versus-a-copy\n",
            "  perros['Description'].fillna('No description',inplace = True)\n"
          ]
        }
      ],
      "source": [
        "perros['Name'].dropna()\n",
        "perros['Description'].fillna('No description',inplace = True)"
      ]
    },
    {
      "cell_type": "code",
      "execution_count": 27,
      "metadata": {},
      "outputs": [
        {
          "name": "stderr",
          "output_type": "stream",
          "text": [
            "/var/folders/m1/y83lzzrj3g9cwk3vm5gds84r0000gn/T/ipykernel_48569/1113749045.py:2: SettingWithCopyWarning: \n",
            "A value is trying to be set on a copy of a slice from a DataFrame\n",
            "\n",
            "See the caveats in the documentation: https://pandas.pydata.org/pandas-docs/stable/user_guide/indexing.html#returning-a-view-versus-a-copy\n",
            "  gatos['Description'].fillna('No description',inplace = True)\n"
          ]
        }
      ],
      "source": [
        "gatos['Name'].dropna()\n",
        "gatos['Description'].fillna('No description',inplace = True)"
      ]
    },
    {
      "cell_type": "code",
      "execution_count": 28,
      "metadata": {},
      "outputs": [
        {
          "data": {
            "text/plain": [
              "Type               0\n",
              "Name             649\n",
              "Age                0\n",
              "Breed1             0\n",
              "Breed2             0\n",
              "Gender             0\n",
              "Color1             0\n",
              "Color2             0\n",
              "Color3             0\n",
              "MaturitySize       0\n",
              "FurLength          0\n",
              "Vaccinated         0\n",
              "Dewormed           0\n",
              "Sterilized         0\n",
              "Health             0\n",
              "Quantity           0\n",
              "Fee                0\n",
              "State              0\n",
              "RescuerID          0\n",
              "VideoAmt           0\n",
              "Description        0\n",
              "PetID              0\n",
              "PhotoAmt           0\n",
              "AdoptionSpeed      0\n",
              "dtype: int64"
            ]
          },
          "execution_count": 28,
          "metadata": {},
          "output_type": "execute_result"
        }
      ],
      "source": [
        "perros.isna().sum()"
      ]
    },
    {
      "cell_type": "code",
      "execution_count": 29,
      "metadata": {},
      "outputs": [
        {
          "data": {
            "text/plain": [
              "Type               0\n",
              "Name             608\n",
              "Age                0\n",
              "Breed1             0\n",
              "Breed2             0\n",
              "Gender             0\n",
              "Color1             0\n",
              "Color2             0\n",
              "Color3             0\n",
              "MaturitySize       0\n",
              "FurLength          0\n",
              "Vaccinated         0\n",
              "Dewormed           0\n",
              "Sterilized         0\n",
              "Health             0\n",
              "Quantity           0\n",
              "Fee                0\n",
              "State              0\n",
              "RescuerID          0\n",
              "VideoAmt           0\n",
              "Description        0\n",
              "PetID              0\n",
              "PhotoAmt           0\n",
              "AdoptionSpeed      0\n",
              "dtype: int64"
            ]
          },
          "execution_count": 29,
          "metadata": {},
          "output_type": "execute_result"
        }
      ],
      "source": [
        "gatos.isna().sum()"
      ]
    },
    {
      "cell_type": "markdown",
      "metadata": {},
      "source": [
        "La variable Name es una variable cualitativa, por lo cual no nos diria ningun tipo de information, por ende se puede eliminar.\n",
        "La variable Description no es una variable relevante y por ende se puede reemplazar por otro valor."
      ]
    },
    {
      "cell_type": "markdown",
      "metadata": {
        "id": "6Br0NS1QiuUg"
      },
      "source": [
        "# *6. ¿la salud podría significar algo en la velocidad de adopción?*"
      ]
    },
    {
      "cell_type": "markdown",
      "metadata": {},
      "source": [
        "(Health Condition (1 = Healthy, 2 = Minor Injury, 3 = Serious Injury), "
      ]
    },
    {
      "cell_type": "code",
      "execution_count": 30,
      "metadata": {},
      "outputs": [
        {
          "data": {
            "text/html": [
              "<div>\n",
              "<style scoped>\n",
              "    .dataframe tbody tr th:only-of-type {\n",
              "        vertical-align: middle;\n",
              "    }\n",
              "\n",
              "    .dataframe tbody tr th {\n",
              "        vertical-align: top;\n",
              "    }\n",
              "\n",
              "    .dataframe thead th {\n",
              "        text-align: right;\n",
              "    }\n",
              "</style>\n",
              "<table border=\"1\" class=\"dataframe\">\n",
              "  <thead>\n",
              "    <tr style=\"text-align: right;\">\n",
              "      <th>AdoptionSpeed</th>\n",
              "      <th>0</th>\n",
              "      <th>1</th>\n",
              "      <th>2</th>\n",
              "      <th>3</th>\n",
              "      <th>4</th>\n",
              "    </tr>\n",
              "    <tr>\n",
              "      <th>Health</th>\n",
              "      <th></th>\n",
              "      <th></th>\n",
              "      <th></th>\n",
              "      <th></th>\n",
              "      <th></th>\n",
              "    </tr>\n",
              "  </thead>\n",
              "  <tbody>\n",
              "    <tr>\n",
              "      <th>1</th>\n",
              "      <td>0.027076</td>\n",
              "      <td>0.207142</td>\n",
              "      <td>0.271101</td>\n",
              "      <td>0.217571</td>\n",
              "      <td>0.277110</td>\n",
              "    </tr>\n",
              "    <tr>\n",
              "      <th>2</th>\n",
              "      <td>0.035343</td>\n",
              "      <td>0.185031</td>\n",
              "      <td>0.220374</td>\n",
              "      <td>0.203742</td>\n",
              "      <td>0.355509</td>\n",
              "    </tr>\n",
              "    <tr>\n",
              "      <th>3</th>\n",
              "      <td>0.029412</td>\n",
              "      <td>0.058824</td>\n",
              "      <td>0.176471</td>\n",
              "      <td>0.323529</td>\n",
              "      <td>0.411765</td>\n",
              "    </tr>\n",
              "    <tr>\n",
              "      <th>All</th>\n",
              "      <td>0.027346</td>\n",
              "      <td>0.206096</td>\n",
              "      <td>0.269259</td>\n",
              "      <td>0.217368</td>\n",
              "      <td>0.279931</td>\n",
              "    </tr>\n",
              "  </tbody>\n",
              "</table>\n",
              "</div>"
            ],
            "text/plain": [
              "AdoptionSpeed         0         1         2         3         4\n",
              "Health                                                         \n",
              "1              0.027076  0.207142  0.271101  0.217571  0.277110\n",
              "2              0.035343  0.185031  0.220374  0.203742  0.355509\n",
              "3              0.029412  0.058824  0.176471  0.323529  0.411765\n",
              "All            0.027346  0.206096  0.269259  0.217368  0.279931"
            ]
          },
          "execution_count": 30,
          "metadata": {},
          "output_type": "execute_result"
        }
      ],
      "source": [
        "pd.crosstab(df.loc[df['Health'] != 0]['Health'], df['AdoptionSpeed'], margins = True, normalize=\"index\")"
      ]
    },
    {
      "cell_type": "markdown",
      "metadata": {},
      "source": [
        "El estado de salud importa porque entre mas saludable sea, mas probabilidades hay de que lo adopten."
      ]
    },
    {
      "cell_type": "markdown",
      "metadata": {},
      "source": [
        "# *7. ¿Cuales son los cinco nombres más populares para los perros?*"
      ]
    },
    {
      "cell_type": "code",
      "execution_count": 32,
      "metadata": {},
      "outputs": [
        {
          "data": {
            "text/plain": [
              "['Lucky', 'Puppy', 'Brownie', 'Max', 'Baby']"
            ]
          },
          "execution_count": 32,
          "metadata": {},
          "output_type": "execute_result"
        }
      ],
      "source": [
        "n = 5\n",
        "perros['Name'].value_counts().index.tolist()[:n]"
      ]
    },
    {
      "cell_type": "markdown",
      "metadata": {},
      "source": [
        "# *8. Revise la relación entre la variable de edad y la velocidad de adopción.*"
      ]
    },
    {
      "cell_type": "code",
      "execution_count": 33,
      "metadata": {},
      "outputs": [
        {
          "data": {
            "image/png": "[encoded data removed]",
            "text/plain": [
              "<Figure size 432x288 with 2 Axes>"
            ]
          },
          "metadata": {
            "needs_background": "light"
          },
          "output_type": "display_data"
        }
      ],
      "source": [
        "corr = [\"AdoptionSpeed\",'Age']\n",
        "ax = sns.heatmap(df[corr].corr(),annot=True,cmap='RdYlGn')"
      ]
    },
    {
      "cell_type": "markdown",
      "metadata": {},
      "source": [
        "No existe una relacion entre las dos variables."
      ]
    },
    {
      "cell_type": "markdown",
      "metadata": {},
      "source": [
        "# *9. ¿Existe alguna relación entre la longitud del nombre y la velocidad de adopción?*."
      ]
    },
    {
      "cell_type": "code",
      "execution_count": 34,
      "metadata": {},
      "outputs": [
        {
          "data": {
            "image/png": "[encoded data removed]",
            "text/plain": [
              "<Figure size 432x288 with 2 Axes>"
            ]
          },
          "metadata": {
            "needs_background": "light"
          },
          "output_type": "display_data"
        }
      ],
      "source": [
        "dfCopy = df.copy()\n",
        "dfCopy[\"Name\"] = dfCopy[\"Name\"].astype(str)\n",
        "dfCopy[\"name_len\"]=dfCopy.loc[:,\"Name\"].apply(len)\n",
        "corr = [\"name_len\",'AdoptionSpeed']\n",
        "ax = sns.heatmap(dfCopy[corr].corr(),annot=True,cmap='RdYlGn')"
      ]
    },
    {
      "cell_type": "markdown",
      "metadata": {},
      "source": [
        "No existe una relacion entre las dos variables."
      ]
    },
    {
      "cell_type": "markdown",
      "metadata": {},
      "source": [
        "# *10. Ejecute las siguientes líneas decódigo e interprete*"
      ]
    },
    {
      "cell_type": "code",
      "execution_count": 35,
      "metadata": {},
      "outputs": [],
      "source": [
        "df_2 = df.dropna().copy()\n",
        "df_2 = df_2.loc[df_2.Name.isna() != True].copy()\n",
        "df_2[\"len_name\"] = df_2.loc[:,\"Name\"].apply(len)\n",
        "df_2[\"new_age\"] = pd.cut(df_2.Age,bins=np.arange(0,300,12,dtype=int),\n",
        "                         labels=np.arange(0,len(np.arange(0,300,12,dtype=int)))[:-1],include_lowest=True).astype(int)"
      ]
    },
    {
      "cell_type": "code",
      "execution_count": 36,
      "metadata": {},
      "outputs": [
        {
          "data": {
            "text/plain": [
              "array([[<AxesSubplot:title={'center':'new_age'}>]], dtype=object)"
            ]
          },
          "execution_count": 36,
          "metadata": {},
          "output_type": "execute_result"
        },
        {
          "data": {
            "image/png": "[encoded data removed]",
            "text/plain": [
              "<Figure size 360x360 with 1 Axes>"
            ]
          },
          "metadata": {
            "needs_background": "light"
          },
          "output_type": "display_data"
        }
      ],
      "source": [
        "atributo = 'new_age'\n",
        "num_bins = 100\n",
        "df_2.hist(column=atributo, bins=num_bins, figsize=(5,5), range=[0,10])  #Histograma.b"
      ]
    },
    {
      "cell_type": "markdown",
      "metadata": {},
      "source": [
        "El dataframe evaluado no tiene valores nulos y crea 2 variables nuevas: longitud del nombre y edad."
      ]
    },
    {
      "cell_type": "markdown",
      "metadata": {},
      "source": [
        "# *11. Ejecute las siguientes líneas decódigo e interprete*"
      ]
    },
    {
      "cell_type": "code",
      "execution_count": 37,
      "metadata": {},
      "outputs": [],
      "source": [
        "from sklearn import tree\n",
        "from sklearn.model_selection import train_test_split\n",
        "\n",
        "features = list(set(df_2.columns) - set([\"AdoptionSpeed\",\"PetID\",\"RescuerID\",\n",
        "                                         \"Description\",\"Name\",\"Age\",\"PhotoAmt\",\"VideoAmt\"]))\n",
        "\n",
        "X_train,X_test,y_train,y_test = train_test_split(df_2[features],df_2.AdoptionSpeed,test_size=0.33,random_state=42)"
      ]
    },
    {
      "cell_type": "markdown",
      "metadata": {},
      "source": [
        "El dataframe particiona los datos de entrenamiento y los datos de prueba con enfoque en la variable target que es AdoptionSpeed. Ademas de que toma los datos como independientes excepto las definidas por la variable 'features'"
      ]
    },
    {
      "cell_type": "markdown",
      "metadata": {},
      "source": [
        "# *12. Ejecute e interprete los resultados de clasificación (precision and recall)*"
      ]
    },
    {
      "cell_type": "code",
      "execution_count": 38,
      "metadata": {},
      "outputs": [
        {
          "name": "stdout",
          "output_type": "stream",
          "text": [
            "              precision    recall  f1-score   support\n",
            "\n",
            "           0       0.07      0.07      0.07       125\n",
            "           1       0.28      0.31      0.29       915\n",
            "           2       0.32      0.31      0.32      1245\n",
            "           3       0.26      0.27      0.26       967\n",
            "           4       0.41      0.36      0.38      1277\n",
            "\n",
            "    accuracy                           0.31      4529\n",
            "   macro avg       0.27      0.26      0.26      4529\n",
            "weighted avg       0.31      0.31      0.31      4529\n",
            "\n"
          ]
        }
      ],
      "source": [
        "clf = tree.DecisionTreeClassifier()\n",
        "clf = clf.fit(X_train,y_train)\n",
        "\n",
        "from sklearn.metrics import classification_report\n",
        "\n",
        "y_pred = clf.predict(X_test)\n",
        "\n",
        "print(classification_report(y_test,y_pred))"
      ]
    },
    {
      "cell_type": "markdown",
      "metadata": {},
      "source": [
        "Aqui se evidencia un modelo de arboles de decision donde se introducen las variables creadas en la celda anterior. \n",
        "En la parte de impresión del reporte se hace con el fin de evaluar la eficacia del modelo por medio de  las estadisticas."
      ]
    },
    {
      "cell_type": "markdown",
      "metadata": {},
      "source": [
        "# *13. Ejecute las siguientes líneas de código ¿Cuál es el propósito de mutual_info_classif?*"
      ]
    },
    {
      "cell_type": "code",
      "execution_count": 39,
      "metadata": {},
      "outputs": [],
      "source": [
        "discrete_features = [True,False,False,False,False,False,\n",
        "                    True,False,False,False,False,\n",
        "                    True,True,False,False,False,False,False]"
      ]
    },
    {
      "cell_type": "code",
      "execution_count": 40,
      "metadata": {},
      "outputs": [
        {
          "data": {
            "text/plain": [
              "Breed2        0.033395\n",
              "Gender        0.010760\n",
              "Color3        0.005438\n",
              "Vaccinated    0.003439\n",
              "Color1        0.000000\n",
              "len_name      0.000000\n",
              "Name: MI Scores, dtype: float64"
            ]
          },
          "execution_count": 40,
          "metadata": {},
          "output_type": "execute_result"
        }
      ],
      "source": [
        "from sklearn.feature_selection import mutual_info_classif\n",
        "\n",
        "def make_mi_scores(X,y,discrete_features):\n",
        "    mi_scores = mutual_info_classif(X,y,discrete_features =discrete_features)\n",
        "    mi_scores = pd.Series(mi_scores,name=\"MI Scores\",index=X.columns)\n",
        "    mi_scores = mi_scores.sort_values(ascending=False)\n",
        "    return mi_scores\n",
        "\n",
        "mi_scores = make_mi_scores(X_train,y_train,discrete_features)\n",
        "mi_scores[::3]"
      ]
    },
    {
      "cell_type": "code",
      "execution_count": 41,
      "metadata": {},
      "outputs": [],
      "source": [
        "def plot_mi_scores(scores):\n",
        "    scores = scores.sort_values(ascending = True)\n",
        "    width = np.arange(len(scores))\n",
        "    ticks = list(scores.index)\n",
        "    plt.barh(width,scores)\n",
        "    plt.yticks(width,ticks)\n",
        "    plt.title(\"Mutual Information Scores\")"
      ]
    },
    {
      "cell_type": "code",
      "execution_count": 42,
      "metadata": {},
      "outputs": [
        {
          "data": {
            "image/png": "[encoded data removed]",
            "text/plain": [
              "<Figure size 800x500 with 1 Axes>"
            ]
          },
          "metadata": {
            "needs_background": "light"
          },
          "output_type": "display_data"
        }
      ],
      "source": [
        "plt.figure(dpi=100,figsize=(8,5))\n",
        "plot_mi_scores(mi_scores)"
      ]
    },
    {
      "cell_type": "markdown",
      "metadata": {},
      "source": [
        "El propósito de mutual_info_classif es retornar la informacion mutua de cada variable donde estas variables mutuas son una medida de la dependencia. Es decir, esta representa la cantidad de información obtenida sobre una variable aleatoria al observar la otra variable aleatoria. Esta información se saca apartir de la informacion de las variables independientes y la variable target."
      ]
    },
    {
      "cell_type": "markdown",
      "metadata": {},
      "source": [
        "# *14. Con base a los anteriores resultados seleccione cuatro variables, entrene y evalué un nuevo modelo con las mismas configuraciones y datos. Interprete el proceso y los nuevos resultados*"
      ]
    },
    {
      "cell_type": "code",
      "execution_count": 45,
      "metadata": {},
      "outputs": [],
      "source": [
        "input = [\"Breed1\",\"Sterilized\",\"State\",\"MaturitySize\"] #VARIABLES SELECCIONADAS\n",
        "features = deepcopy(df_2[input])\n",
        "\n",
        "X_train,X_test,y_train,y_test = train_test_split(features,df_2.AdoptionSpeed,test_size=0.33,random_state=42)"
      ]
    },
    {
      "cell_type": "code",
      "execution_count": 47,
      "metadata": {},
      "outputs": [
        {
          "name": "stdout",
          "output_type": "stream",
          "text": [
            "              precision    recall  f1-score   support\n",
            "\n",
            "           0       0.08      0.02      0.04       125\n",
            "           1       0.28      0.25      0.27       915\n",
            "           2       0.32      0.57      0.41      1245\n",
            "           3       0.28      0.11      0.15       967\n",
            "           4       0.50      0.42      0.46      1277\n",
            "\n",
            "    accuracy                           0.35      4529\n",
            "   macro avg       0.29      0.27      0.26      4529\n",
            "weighted avg       0.35      0.35      0.33      4529\n",
            "\n"
          ]
        }
      ],
      "source": [
        "vr = tree.DecisionTreeClassifier()\n",
        "vr = vr.fit(X_train,y_train)\n",
        "\n",
        "y_pred = vr.predict(X_test)\n",
        "\n",
        "print(classification_report(y_test,y_pred))"
      ]
    },
    {
      "cell_type": "markdown",
      "metadata": {},
      "source": [
        "Este modelo mejora en su precision en comparación con el modelo que usaba todas las variables, sin embargo, la 'mejora' es muy poquita. En cuanto al recall, a exccepcion de el porcentaje de animales adoptados en el mes 1 y los que nunca se adoptaron, los porcentajes disminuyeron.\n",
        "\n",
        "Se puede concluir que aunque el modelo mejora en precision (en pequeña proporción) no lo es del todo efectivo debido a que disminuye en la mayoria de las variables de recall. "
      ]
    }
  ],
  "metadata": {
    "colab": {
      "provenance": []
    },
    "kernelspec": {
      "display_name": "Python 3.9.12 ('base')",
      "language": "python",
      "name": "python3"
    },
    "language_info": {
      "codemirror_mode": {
        "name": "ipython",
        "version": 3
      },
      "file_extension": ".py",
      "mimetype": "text/x-python",
      "name": "python",
      "nbconvert_exporter": "python",
      "pygments_lexer": "ipython3",
      "version": "3.9.12"
    },
    "vscode": {
      "interpreter": {
        "hash": "a5a989a0b9c62b04ee600a8d3cc7466483c74b57a24e7b0f4faa72d83fc2c880"
      }
    }
  },
  "nbformat": 4,
  "nbformat_minor": 0
}
